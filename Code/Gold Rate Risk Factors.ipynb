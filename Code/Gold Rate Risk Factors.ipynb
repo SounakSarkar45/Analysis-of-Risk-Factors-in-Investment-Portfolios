{
 "cells": [
  {
   "cell_type": "markdown",
   "id": "9500b1ca",
   "metadata": {},
   "source": [
    "## Importing the basic libraries"
   ]
  },
  {
   "cell_type": "code",
   "execution_count": 1,
   "id": "2a280ce6",
   "metadata": {},
   "outputs": [],
   "source": [
    "import pandas as pd\n",
    "\n",
    "import numpy as np\n",
    "\n",
    "import seaborn as sns\n",
    "\n",
    "import matplotlib.pyplot as plt\n",
    "\n",
    "%matplotlib inline\n",
    "\n",
    "import warnings\n",
    "\n",
    "warnings.filterwarnings('ignore')"
   ]
  },
  {
   "cell_type": "markdown",
   "id": "b5895d3b",
   "metadata": {},
   "source": [
    "## Reading the dataset"
   ]
  },
  {
   "cell_type": "code",
   "execution_count": 2,
   "id": "a25ac826",
   "metadata": {},
   "outputs": [
    {
     "data": {
      "text/html": [
       "<div>\n",
       "<style scoped>\n",
       "    .dataframe tbody tr th:only-of-type {\n",
       "        vertical-align: middle;\n",
       "    }\n",
       "\n",
       "    .dataframe tbody tr th {\n",
       "        vertical-align: top;\n",
       "    }\n",
       "\n",
       "    .dataframe thead th {\n",
       "        text-align: right;\n",
       "    }\n",
       "</style>\n",
       "<table border=\"1\" class=\"dataframe\">\n",
       "  <thead>\n",
       "    <tr style=\"text-align: right;\">\n",
       "      <th></th>\n",
       "      <th>Date</th>\n",
       "      <th>India(INR)</th>\n",
       "    </tr>\n",
       "  </thead>\n",
       "  <tbody>\n",
       "    <tr>\n",
       "      <th>0</th>\n",
       "      <td>1979-01-31</td>\n",
       "      <td>1840.8</td>\n",
       "    </tr>\n",
       "    <tr>\n",
       "      <th>1</th>\n",
       "      <td>1979-02-28</td>\n",
       "      <td>2011.7</td>\n",
       "    </tr>\n",
       "    <tr>\n",
       "      <th>2</th>\n",
       "      <td>1979-03-30</td>\n",
       "      <td>1940.2</td>\n",
       "    </tr>\n",
       "    <tr>\n",
       "      <th>3</th>\n",
       "      <td>1979-04-30</td>\n",
       "      <td>2013.1</td>\n",
       "    </tr>\n",
       "    <tr>\n",
       "      <th>4</th>\n",
       "      <td>1979-05-31</td>\n",
       "      <td>2253.4</td>\n",
       "    </tr>\n",
       "  </tbody>\n",
       "</table>\n",
       "</div>"
      ],
      "text/plain": [
       "        Date  India(INR)\n",
       "0 1979-01-31      1840.8\n",
       "1 1979-02-28      2011.7\n",
       "2 1979-03-30      1940.2\n",
       "3 1979-04-30      2013.1\n",
       "4 1979-05-31      2253.4"
      ]
     },
     "execution_count": 2,
     "metadata": {},
     "output_type": "execute_result"
    }
   ],
   "source": [
    "gold = pd.read_excel('D:/WORK/UNIVERSITY PROJECTS/OPTIMIZING INVESTMENT PORTFOLIOS SUBJECT TO RISK MANAGEMENT AND STRATEGIC PLANNING/Code/Gold Rates (1979-2021).xlsx')\n",
    "\n",
    "gold.head()"
   ]
  },
  {
   "cell_type": "markdown",
   "id": "dadad2c7",
   "metadata": {},
   "source": [
    "## Basic preprocessing sections"
   ]
  },
  {
   "cell_type": "markdown",
   "id": "6d2812c2",
   "metadata": {},
   "source": [
    "### Renaming the column \"India(INR)\" to \"Rate\" for ease."
   ]
  },
  {
   "cell_type": "code",
   "execution_count": 3,
   "id": "c122966c",
   "metadata": {},
   "outputs": [],
   "source": [
    "gold=gold.rename(columns={'India(INR)':'Rate'})"
   ]
  },
  {
   "cell_type": "markdown",
   "id": "8372bb6b",
   "metadata": {},
   "source": [
    "## 1) Extreme Value Theory (EVT)"
   ]
  },
  {
   "cell_type": "markdown",
   "id": "33e06d25",
   "metadata": {},
   "source": [
    "### EVT is a statistical approach for modeling extreme events or tail risk. It can help you understand the likelihood and magnitude of extreme price movements in gold rates. By fitting an EVT model to your data, you can estimate the tail risk and identify potential risk factors that contribute to extreme price movements."
   ]
  },
  {
   "cell_type": "code",
   "execution_count": 4,
   "id": "249fdaa2",
   "metadata": {},
   "outputs": [
    {
     "name": "stdout",
     "output_type": "stream",
     "text": [
      "207515.9516394479\n"
     ]
    }
   ],
   "source": [
    "from scipy.stats import genextreme\n",
    "\n",
    "# Fit the Extreme Value Distribution\n",
    "\n",
    "fit_params = genextreme.fit(gold['Rate'])\n",
    "\n",
    "shape, loc, scale = fit_params\n",
    "\n",
    "# Estimate quantiles or Value at Risk (VaR)\n",
    "\n",
    "confidence_level = 0.95\n",
    "\n",
    "var = genextreme.ppf(confidence_level, shape, loc, scale)\n",
    "\n",
    "print(var)"
   ]
  },
  {
   "cell_type": "code",
   "execution_count": 5,
   "id": "7e8ddddd",
   "metadata": {},
   "outputs": [
    {
     "data": {
      "image/png": "[encoded data removed]",
      "text/plain": [
       "<Figure size 720x432 with 1 Axes>"
      ]
     },
     "metadata": {
      "needs_background": "light"
     },
     "output_type": "display_data"
    }
   ],
   "source": [
    "# Generate a range of values for the x-axis\n",
    "\n",
    "x = np.linspace(0, 500000, 1000)\n",
    "\n",
    "# Fit the Extreme Value Distribution\n",
    "\n",
    "fit_params = genextreme.fit(gold['Rate'])\n",
    "\n",
    "shape, loc, scale = fit_params\n",
    "\n",
    "# Calculate the probability density function (PDF) using the fitted parameters\n",
    "\n",
    "pdf = genextreme.pdf(x, shape, loc, scale)\n",
    "\n",
    "# Estimate quantiles or Value at Risk (VaR)\n",
    "\n",
    "confidence_level = 0.95\n",
    "\n",
    "var = genextreme.ppf(confidence_level, shape, loc, scale)\n",
    "\n",
    "# Create the plot\n",
    "\n",
    "plt.figure(figsize=(10, 6))\n",
    "\n",
    "plt.plot(x, pdf, label='Extreme Value Distribution (EVD)')\n",
    "\n",
    "plt.axvline(x=var, color='red', linestyle='--', label='Value at Risk (VaR)')\n",
    "\n",
    "plt.title('Extreme Value Distribution and Value at Risk')\n",
    "\n",
    "plt.xlabel('Price')\n",
    "\n",
    "plt.ylabel('Probability Density')\n",
    "\n",
    "plt.legend()\n",
    "\n",
    "plt.grid(True)\n",
    "\n",
    "plt.show()"
   ]
  },
  {
   "cell_type": "markdown",
   "id": "c54988e2",
   "metadata": {},
   "source": [
    "## Interpretation :"
   ]
  },
  {
   "cell_type": "markdown",
   "id": "0908ee19",
   "metadata": {},
   "source": [
    "### The result suggests that, based on the Extreme Value Distribution fitted to the gold rate data, there is a certain confidence level (typically 95% or 99%) that the maximum potential loss in the gold rate will not exceed 207,515.95."
   ]
  },
  {
   "cell_type": "markdown",
   "id": "336490c0",
   "metadata": {},
   "source": [
    "## 2) Cluster Analysis"
   ]
  },
  {
   "cell_type": "markdown",
   "id": "38787d68",
   "metadata": {},
   "source": [
    "### Cluster analysis can help identify groups or clusters of similar behavior in gold rates. By clustering periods with similar price dynamics, you may uncover different risk regimes or market conditions. This analysis can provide insights into how different factors affect gold rates in distinct market environments."
   ]
  },
  {
   "cell_type": "code",
   "execution_count": 6,
   "id": "9870d639",
   "metadata": {},
   "outputs": [
    {
     "data": {
      "image/png": "[encoded data removed]",
      "text/plain": [
       "<Figure size 432x288 with 1 Axes>"
      ]
     },
     "metadata": {
      "needs_background": "light"
     },
     "output_type": "display_data"
    }
   ],
   "source": [
    "from sklearn.cluster import KMeans\n",
    "\n",
    "from sklearn import metrics\n",
    "\n",
    "# Select the features for clustering\n",
    "\n",
    "X = np.array(gold['Rate']).reshape(-1, 1)\n",
    "\n",
    "# Perform clustering with different numbers of clusters\n",
    "\n",
    "k_values = range(2, 11)\n",
    "\n",
    "silhouette_scores = []\n",
    "\n",
    "for k in k_values:\n",
    "    \n",
    "    kmeans = KMeans(n_clusters=k, random_state=42)\n",
    "    \n",
    "    labels = kmeans.fit_predict(X)\n",
    "    \n",
    "    silhouette_scores.append(metrics.silhouette_score(X, labels))\n",
    "\n",
    "# Plot the elbow curve\n",
    "\n",
    "plt.plot(k_values, silhouette_scores, 'bo-')\n",
    "\n",
    "plt.xlabel('Number of Clusters (k)')\n",
    "\n",
    "plt.ylabel('Silhouette Score')\n",
    "\n",
    "plt.title('Elbow Curve')\n",
    "\n",
    "plt.show()"
   ]
  },
  {
   "cell_type": "code",
   "execution_count": 7,
   "id": "e9b24067",
   "metadata": {},
   "outputs": [],
   "source": [
    "from sklearn.cluster import KMeans\n",
    "\n",
    "# Perform K-means clustering\n",
    "\n",
    "k = 5  # Number of clusters\n",
    "\n",
    "kmeans = KMeans(n_clusters=k)\n",
    "\n",
    "kmeans.fit(X)\n",
    "\n",
    "# Get the cluster labels for each data point\n",
    "\n",
    "cluster_labels = kmeans.labels_\n",
    "\n",
    "gold['cluster_label']=cluster_labels"
   ]
  },
  {
   "cell_type": "code",
   "execution_count": 8,
   "id": "85b14a8a",
   "metadata": {},
   "outputs": [
    {
     "data": {
      "image/png": "[encoded data removed]",
      "text/plain": [
       "<Figure size 432x288 with 1 Axes>"
      ]
     },
     "metadata": {
      "needs_background": "light"
     },
     "output_type": "display_data"
    }
   ],
   "source": [
    "# Box plot by cluster\n",
    "\n",
    "gold.boxplot(column='Rate', by='cluster_label')\n",
    "\n",
    "plt.xlabel('Cluster Label')\n",
    "\n",
    "plt.ylabel('Feature')\n",
    "\n",
    "plt.title('Box Plot by Cluster')\n",
    "\n",
    "plt.suptitle('')  # Remove default title\n",
    "\n",
    "plt.show()"
   ]
  },
  {
   "cell_type": "markdown",
   "id": "e39615b9",
   "metadata": {},
   "source": [
    "## Interpretation :"
   ]
  },
  {
   "cell_type": "markdown",
   "id": "b0cdcc7f",
   "metadata": {},
   "source": [
    "### From the above outcome, we found that the optimal number of clusters is 4. Now we can perform various Risk Analyzing techniques such as the Extreme Value Theory (EVT), LSTM (Long Short Term Memory) and the Event Study Analysis for each 4 clusters and interpret them as High-Risk or Low-Risk Factors."
   ]
  },
  {
   "cell_type": "markdown",
   "id": "c25fbf44",
   "metadata": {},
   "source": [
    "## 3) Principal Component Analysis (PCA)"
   ]
  },
  {
   "cell_type": "code",
   "execution_count": 18,
   "id": "b2cbb995",
   "metadata": {},
   "outputs": [
    {
     "name": "stdout",
     "output_type": "stream",
     "text": [
      "Explained Variance Ratio:\n",
      "[1.]\n",
      "\n",
      "Cumulative Explained Variance:\n",
      "[1.]\n",
      "\n",
      "Number of Components Retained: 1\n",
      "\n",
      "PCA Components and Data:\n",
      "        Date    Rate       PC1\n",
      "0 1979-01-31  1840.8 -0.868192\n",
      "1 1979-02-28  2011.7 -0.863449\n",
      "2 1979-03-30  1940.2 -0.865433\n",
      "3 1979-04-30  2013.1 -0.863410\n",
      "4 1979-05-31  2253.4 -0.856741\n"
     ]
    }
   ],
   "source": [
    "from sklearn.decomposition import PCA\n",
    "from sklearn.preprocessing import StandardScaler\n",
    "\n",
    "# Extract the price column as the feature for PCA\n",
    "X = gold['Rate'].values.reshape(-1, 1)\n",
    "\n",
    "# Standardize the feature data\n",
    "scaler = StandardScaler()\n",
    "X_scaled = scaler.fit_transform(X)\n",
    "\n",
    "# Perform PCA\n",
    "pca = PCA()\n",
    "X_pca = pca.fit_transform(X_scaled)\n",
    "\n",
    "# Explained variance ratio\n",
    "explained_var_ratio = pca.explained_variance_ratio_\n",
    "\n",
    "# Cumulative explained variance\n",
    "cumulative_var_ratio = np.cumsum(explained_var_ratio)\n",
    "\n",
    "# Determine the number of components explaining a desired amount of variance\n",
    "desired_variance = 0.95\n",
    "num_components = np.argmax(cumulative_var_ratio >= desired_variance) + 1\n",
    "\n",
    "# Retain the desired number of components\n",
    "X_pca_final = X_pca[:, :num_components]\n",
    "\n",
    "# Create a DataFrame with the PCA components\n",
    "pca_components = pd.DataFrame(X_pca_final, columns=['PC{}'.format(i) for i in range(1, num_components+1)])\n",
    "\n",
    "# Combine the PCA components with the original data\n",
    "pca_data = pd.concat([gold[['Date', 'Rate']], pca_components], axis=1)\n",
    "\n",
    "# Display the explained variance ratio and cumulative explained variance\n",
    "print(\"Explained Variance Ratio:\")\n",
    "print(explained_var_ratio)\n",
    "print(\"\\nCumulative Explained Variance:\")\n",
    "print(cumulative_var_ratio)\n",
    "\n",
    "# Display the retained number of components\n",
    "print(\"\\nNumber of Components Retained:\", num_components)\n",
    "\n",
    "# Display the PCA components and original data\n",
    "print(\"\\nPCA Components and Data:\")\n",
    "print(pca_data.head())"
   ]
  },
  {
   "cell_type": "code",
   "execution_count": 19,
   "id": "b83d8266",
   "metadata": {},
   "outputs": [
    {
     "data": {
      "image/png": "[encoded data removed]",
      "text/plain": [
       "<Figure size 432x288 with 1 Axes>"
      ]
     },
     "metadata": {
      "needs_background": "light"
     },
     "output_type": "display_data"
    }
   ],
   "source": [
    "# Create a scatter plot of the PCA components\n",
    "\n",
    "plt.scatter(pca_data['PC1'], gold['Rate'])\n",
    "\n",
    "plt.xlabel('PC1')\n",
    "\n",
    "plt.ylabel('Gold Price')\n",
    "\n",
    "plt.title('PCA Analysis: PC1 vs Gold Price')\n",
    "\n",
    "plt.show()"
   ]
  },
  {
   "cell_type": "markdown",
   "id": "5b5a4b6f",
   "metadata": {},
   "source": [
    "## Interpretation :"
   ]
  },
  {
   "cell_type": "markdown",
   "id": "7e6fee52",
   "metadata": {},
   "source": [
    "### i) Explained Variance Ratio:"
   ]
  },
  {
   "cell_type": "markdown",
   "id": "2ad48809",
   "metadata": {},
   "source": [
    "#### The explained variance ratio represents the proportion of variance explained by each principal component. In your case, the single principal component (PC1) explains 100% of the variance, as indicated by the value of 1.0. This suggests that PC1 captures all the information present in the original price column."
   ]
  },
  {
   "cell_type": "markdown",
   "id": "f81d0e8f",
   "metadata": {},
   "source": [
    "### ii) Cumulative Explained Variance:"
   ]
  },
  {
   "cell_type": "markdown",
   "id": "f8f3411d",
   "metadata": {},
   "source": [
    "#### The cumulative explained variance represents the cumulative proportion of variance explained by the principal components. In your case, the cumulative explained variance is also 1.0, which means that PC1 alone accounts for the entire variance in the price column. This implies that no additional principal components are needed to capture meaningful variance."
   ]
  },
  {
   "cell_type": "markdown",
   "id": "597689cb",
   "metadata": {},
   "source": [
    "### iii) Number of Components Retained: "
   ]
  },
  {
   "cell_type": "markdown",
   "id": "d8b1c7b7",
   "metadata": {},
   "source": [
    "#### Since the explained variance ratio and cumulative explained variance are both 1.0, it indicates that only one principal component is needed to capture the variability in the gold price. Therefore, the number of components retained is 1."
   ]
  },
  {
   "cell_type": "markdown",
   "id": "042215ba",
   "metadata": {},
   "source": [
    "### iv) PCA Components and Data:"
   ]
  },
  {
   "cell_type": "markdown",
   "id": "566e953e",
   "metadata": {},
   "source": [
    "#### The resulting DataFrame pca_data displays the original data along with the calculated principal component (PC1) values. Each row corresponds to a specific date and gold rate. PC1 represents a linear combination of the original price column that captures the most significant patterns or variability in the data. The values in the PC1 column indicate the contribution of each data point to the PC1 component."
   ]
  },
  {
   "cell_type": "markdown",
   "id": "14791f84",
   "metadata": {},
   "source": [
    "### The analysis suggests that a single principal component (PC1) is sufficient to represent the gold rate data, capturing all the variability in the price column. PC1 can be interpreted as a representative measure or summary of the gold rate. This simplification can be useful in subsequent analysis or modeling tasks that require a lower-dimensional representation of the data."
   ]
  }
 ],
 "metadata": {
  "kernelspec": {
   "display_name": "Python 3 (ipykernel)",
   "language": "python",
   "name": "python3"
  },
  "language_info": {
   "codemirror_mode": {
    "name": "ipython",
    "version": 3
   },
   "file_extension": ".py",
   "mimetype": "text/x-python",
   "name": "python",
   "nbconvert_exporter": "python",
   "pygments_lexer": "ipython3",
   "version": "3.9.12"
  }
 },
 "nbformat": 4,
 "nbformat_minor": 5
}
