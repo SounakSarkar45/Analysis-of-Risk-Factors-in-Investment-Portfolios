{
 "cells": [
  {
   "cell_type": "markdown",
   "id": "cf646727",
   "metadata": {},
   "source": [
    "## Importing the basic libraries"
   ]
  },
  {
   "cell_type": "code",
   "execution_count": 1,
   "id": "63fa3d33",
   "metadata": {},
   "outputs": [],
   "source": [
    "import pandas as pd\n",
    "\n",
    "import numpy as np\n",
    "\n",
    "import seaborn as sns\n",
    "\n",
    "import matplotlib.pyplot as plt\n",
    "%matplotlib inline\n",
    "\n",
    "import warnings\n",
    "warnings.filterwarnings('ignore')"
   ]
  },
  {
   "cell_type": "markdown",
   "id": "989488ff",
   "metadata": {},
   "source": [
    "## Reading the dataset"
   ]
  },
  {
   "cell_type": "code",
   "execution_count": 2,
   "id": "b559f4cb",
   "metadata": {
    "scrolled": true
   },
   "outputs": [
    {
     "data": {
      "text/html": [
       "<div>\n",
       "<style scoped>\n",
       "    .dataframe tbody tr th:only-of-type {\n",
       "        vertical-align: middle;\n",
       "    }\n",
       "\n",
       "    .dataframe tbody tr th {\n",
       "        vertical-align: top;\n",
       "    }\n",
       "\n",
       "    .dataframe thead th {\n",
       "        text-align: right;\n",
       "    }\n",
       "</style>\n",
       "<table border=\"1\" class=\"dataframe\">\n",
       "  <thead>\n",
       "    <tr style=\"text-align: right;\">\n",
       "      <th></th>\n",
       "      <th>Date</th>\n",
       "      <th>Open</th>\n",
       "      <th>High</th>\n",
       "      <th>Low</th>\n",
       "      <th>Close</th>\n",
       "      <th>Unnamed: 5</th>\n",
       "      <th>Unnamed: 6</th>\n",
       "    </tr>\n",
       "  </thead>\n",
       "  <tbody>\n",
       "    <tr>\n",
       "      <th>0</th>\n",
       "      <td>NaT</td>\n",
       "      <td>NaN</td>\n",
       "      <td>NaN</td>\n",
       "      <td>NaN</td>\n",
       "      <td>NaN</td>\n",
       "      <td>Spread(High-Low)</td>\n",
       "      <td>Spread(Open-Close)</td>\n",
       "    </tr>\n",
       "    <tr>\n",
       "      <th>1</th>\n",
       "      <td>2023-05-15</td>\n",
       "      <td>18339.30</td>\n",
       "      <td>18458.90</td>\n",
       "      <td>18287.90</td>\n",
       "      <td>18398.85</td>\n",
       "      <td>171</td>\n",
       "      <td>-59.55</td>\n",
       "    </tr>\n",
       "    <tr>\n",
       "      <th>2</th>\n",
       "      <td>2023-05-12</td>\n",
       "      <td>18273.75</td>\n",
       "      <td>18342.75</td>\n",
       "      <td>18194.55</td>\n",
       "      <td>18314.80</td>\n",
       "      <td>148.2</td>\n",
       "      <td>-41.05</td>\n",
       "    </tr>\n",
       "    <tr>\n",
       "      <th>3</th>\n",
       "      <td>2023-05-11</td>\n",
       "      <td>18357.80</td>\n",
       "      <td>18389.70</td>\n",
       "      <td>18270.40</td>\n",
       "      <td>18297.00</td>\n",
       "      <td>119.3</td>\n",
       "      <td>60.8</td>\n",
       "    </tr>\n",
       "    <tr>\n",
       "      <th>4</th>\n",
       "      <td>2023-05-10</td>\n",
       "      <td>18313.60</td>\n",
       "      <td>18326.75</td>\n",
       "      <td>18211.95</td>\n",
       "      <td>18315.10</td>\n",
       "      <td>114.8</td>\n",
       "      <td>-1.5</td>\n",
       "    </tr>\n",
       "  </tbody>\n",
       "</table>\n",
       "</div>"
      ],
      "text/plain": [
       "        Date      Open      High       Low     Close        Unnamed: 5  \\\n",
       "0        NaT       NaN       NaN       NaN       NaN  Spread(High-Low)   \n",
       "1 2023-05-15  18339.30  18458.90  18287.90  18398.85               171   \n",
       "2 2023-05-12  18273.75  18342.75  18194.55  18314.80             148.2   \n",
       "3 2023-05-11  18357.80  18389.70  18270.40  18297.00             119.3   \n",
       "4 2023-05-10  18313.60  18326.75  18211.95  18315.10             114.8   \n",
       "\n",
       "           Unnamed: 6  \n",
       "0  Spread(Open-Close)  \n",
       "1              -59.55  \n",
       "2              -41.05  \n",
       "3                60.8  \n",
       "4                -1.5  "
      ]
     },
     "execution_count": 2,
     "metadata": {},
     "output_type": "execute_result"
    }
   ],
   "source": [
    "stock = pd.read_excel('C:/Users/souna/Downloads/Stock_prices.xlsx')\n",
    "\n",
    "stock.head()"
   ]
  },
  {
   "cell_type": "markdown",
   "id": "480ed0e3",
   "metadata": {},
   "source": [
    "## Basic preprocessing sections"
   ]
  },
  {
   "cell_type": "markdown",
   "id": "6309e26f",
   "metadata": {},
   "source": [
    "### Removing the first row which contains the Null values."
   ]
  },
  {
   "cell_type": "code",
   "execution_count": 3,
   "id": "4d07bb56",
   "metadata": {
    "scrolled": true
   },
   "outputs": [
    {
     "name": "stdout",
     "output_type": "stream",
     "text": [
      "           Date      Open      High       Low     Close Unnamed: 5 Unnamed: 6\n",
      "0    2023-05-15  18339.30  18458.90  18287.90  18398.85        171     -59.55\n",
      "1    2023-05-12  18273.75  18342.75  18194.55  18314.80      148.2     -41.05\n",
      "2    2023-05-11  18357.80  18389.70  18270.40  18297.00      119.3       60.8\n",
      "3    2023-05-10  18313.60  18326.75  18211.95  18315.10      114.8       -1.5\n",
      "4    2023-05-09  18303.40  18344.20  18229.65  18265.95     114.55      37.45\n",
      "...         ...       ...       ...       ...       ...        ...        ...\n",
      "1323 2018-01-05  10534.25  10566.10  10520.10  10558.85         46      -24.6\n",
      "1324 2018-01-04  10469.40  10513.00  10441.45  10504.80      71.55      -35.4\n",
      "1325 2018-01-03  10482.65  10503.60  10429.55  10443.20      74.05      39.45\n",
      "1326 2018-01-02  10477.55  10495.20  10404.65  10442.20      90.55      35.35\n",
      "1327 2018-01-01  10531.70  10537.85  10423.10  10435.55     114.75      96.15\n",
      "\n",
      "[1328 rows x 7 columns]\n"
     ]
    }
   ],
   "source": [
    "stock = stock.iloc[1:].reset_index(drop=True)\n",
    "\n",
    "print(stock)"
   ]
  },
  {
   "cell_type": "markdown",
   "id": "e8e78d48",
   "metadata": {},
   "source": [
    "### Renaming the \"Unnamed\" columns. "
   ]
  },
  {
   "cell_type": "code",
   "execution_count": 4,
   "id": "452919e9",
   "metadata": {},
   "outputs": [
    {
     "data": {
      "text/html": [
       "<div>\n",
       "<style scoped>\n",
       "    .dataframe tbody tr th:only-of-type {\n",
       "        vertical-align: middle;\n",
       "    }\n",
       "\n",
       "    .dataframe tbody tr th {\n",
       "        vertical-align: top;\n",
       "    }\n",
       "\n",
       "    .dataframe thead th {\n",
       "        text-align: right;\n",
       "    }\n",
       "</style>\n",
       "<table border=\"1\" class=\"dataframe\">\n",
       "  <thead>\n",
       "    <tr style=\"text-align: right;\">\n",
       "      <th></th>\n",
       "      <th>Date</th>\n",
       "      <th>Open</th>\n",
       "      <th>High</th>\n",
       "      <th>Low</th>\n",
       "      <th>Close</th>\n",
       "      <th>Spread(High-Low)</th>\n",
       "      <th>Spread(Open-Close)</th>\n",
       "    </tr>\n",
       "  </thead>\n",
       "  <tbody>\n",
       "    <tr>\n",
       "      <th>0</th>\n",
       "      <td>2023-05-15</td>\n",
       "      <td>18339.30</td>\n",
       "      <td>18458.90</td>\n",
       "      <td>18287.90</td>\n",
       "      <td>18398.85</td>\n",
       "      <td>171</td>\n",
       "      <td>-59.55</td>\n",
       "    </tr>\n",
       "    <tr>\n",
       "      <th>1</th>\n",
       "      <td>2023-05-12</td>\n",
       "      <td>18273.75</td>\n",
       "      <td>18342.75</td>\n",
       "      <td>18194.55</td>\n",
       "      <td>18314.80</td>\n",
       "      <td>148.2</td>\n",
       "      <td>-41.05</td>\n",
       "    </tr>\n",
       "    <tr>\n",
       "      <th>2</th>\n",
       "      <td>2023-05-11</td>\n",
       "      <td>18357.80</td>\n",
       "      <td>18389.70</td>\n",
       "      <td>18270.40</td>\n",
       "      <td>18297.00</td>\n",
       "      <td>119.3</td>\n",
       "      <td>60.8</td>\n",
       "    </tr>\n",
       "    <tr>\n",
       "      <th>3</th>\n",
       "      <td>2023-05-10</td>\n",
       "      <td>18313.60</td>\n",
       "      <td>18326.75</td>\n",
       "      <td>18211.95</td>\n",
       "      <td>18315.10</td>\n",
       "      <td>114.8</td>\n",
       "      <td>-1.5</td>\n",
       "    </tr>\n",
       "    <tr>\n",
       "      <th>4</th>\n",
       "      <td>2023-05-09</td>\n",
       "      <td>18303.40</td>\n",
       "      <td>18344.20</td>\n",
       "      <td>18229.65</td>\n",
       "      <td>18265.95</td>\n",
       "      <td>114.55</td>\n",
       "      <td>37.45</td>\n",
       "    </tr>\n",
       "  </tbody>\n",
       "</table>\n",
       "</div>"
      ],
      "text/plain": [
       "        Date      Open      High       Low     Close Spread(High-Low)  \\\n",
       "0 2023-05-15  18339.30  18458.90  18287.90  18398.85              171   \n",
       "1 2023-05-12  18273.75  18342.75  18194.55  18314.80            148.2   \n",
       "2 2023-05-11  18357.80  18389.70  18270.40  18297.00            119.3   \n",
       "3 2023-05-10  18313.60  18326.75  18211.95  18315.10            114.8   \n",
       "4 2023-05-09  18303.40  18344.20  18229.65  18265.95           114.55   \n",
       "\n",
       "  Spread(Open-Close)  \n",
       "0             -59.55  \n",
       "1             -41.05  \n",
       "2               60.8  \n",
       "3               -1.5  \n",
       "4              37.45  "
      ]
     },
     "execution_count": 4,
     "metadata": {},
     "output_type": "execute_result"
    }
   ],
   "source": [
    "stock.rename(columns={'Unnamed: 5':'Spread(High-Low)','Unnamed: 6':'Spread(Open-Close)'}, inplace = True)\n",
    "\n",
    "stock.head()"
   ]
  },
  {
   "cell_type": "markdown",
   "id": "13de1d67",
   "metadata": {},
   "source": [
    "### The date column started from May' 2023 to Jan' 2018. But we should work on the data in an ascending chronological order."
   ]
  },
  {
   "cell_type": "code",
   "execution_count": 5,
   "id": "90418957",
   "metadata": {},
   "outputs": [
    {
     "data": {
      "text/html": [
       "<div>\n",
       "<style scoped>\n",
       "    .dataframe tbody tr th:only-of-type {\n",
       "        vertical-align: middle;\n",
       "    }\n",
       "\n",
       "    .dataframe tbody tr th {\n",
       "        vertical-align: top;\n",
       "    }\n",
       "\n",
       "    .dataframe thead th {\n",
       "        text-align: right;\n",
       "    }\n",
       "</style>\n",
       "<table border=\"1\" class=\"dataframe\">\n",
       "  <thead>\n",
       "    <tr style=\"text-align: right;\">\n",
       "      <th></th>\n",
       "      <th>Date</th>\n",
       "      <th>Open</th>\n",
       "      <th>High</th>\n",
       "      <th>Low</th>\n",
       "      <th>Close</th>\n",
       "      <th>Spread(High-Low)</th>\n",
       "      <th>Spread(Open-Close)</th>\n",
       "    </tr>\n",
       "  </thead>\n",
       "  <tbody>\n",
       "    <tr>\n",
       "      <th>0</th>\n",
       "      <td>2018-01-01</td>\n",
       "      <td>10531.70</td>\n",
       "      <td>10537.85</td>\n",
       "      <td>10423.10</td>\n",
       "      <td>10435.55</td>\n",
       "      <td>114.75</td>\n",
       "      <td>96.15</td>\n",
       "    </tr>\n",
       "    <tr>\n",
       "      <th>1</th>\n",
       "      <td>2018-01-02</td>\n",
       "      <td>10477.55</td>\n",
       "      <td>10495.20</td>\n",
       "      <td>10404.65</td>\n",
       "      <td>10442.20</td>\n",
       "      <td>90.55</td>\n",
       "      <td>35.35</td>\n",
       "    </tr>\n",
       "    <tr>\n",
       "      <th>2</th>\n",
       "      <td>2018-01-03</td>\n",
       "      <td>10482.65</td>\n",
       "      <td>10503.60</td>\n",
       "      <td>10429.55</td>\n",
       "      <td>10443.20</td>\n",
       "      <td>74.05</td>\n",
       "      <td>39.45</td>\n",
       "    </tr>\n",
       "  </tbody>\n",
       "</table>\n",
       "</div>"
      ],
      "text/plain": [
       "        Date      Open      High       Low     Close Spread(High-Low)  \\\n",
       "0 2018-01-01  10531.70  10537.85  10423.10  10435.55           114.75   \n",
       "1 2018-01-02  10477.55  10495.20  10404.65  10442.20            90.55   \n",
       "2 2018-01-03  10482.65  10503.60  10429.55  10443.20            74.05   \n",
       "\n",
       "  Spread(Open-Close)  \n",
       "0              96.15  \n",
       "1              35.35  \n",
       "2              39.45  "
      ]
     },
     "execution_count": 5,
     "metadata": {},
     "output_type": "execute_result"
    }
   ],
   "source": [
    "stock.sort_values(by='Date',inplace = True)\n",
    "\n",
    "stock.reset_index(drop=True,inplace = True)\n",
    "\n",
    "stock.head(3)"
   ]
  },
  {
   "cell_type": "markdown",
   "id": "99c6b8d2",
   "metadata": {},
   "source": [
    "### Calculating the Returns according to the price of the stocks closed everyday."
   ]
  },
  {
   "cell_type": "markdown",
   "id": "9e39116b",
   "metadata": {},
   "source": [
    "### In the context of the pct_change() function, the current value represents the value at index 'i', and the previous value represents the value at index 'i-1'. The function calculates the percentage change for each element in the column by subtracting the previous value from the current value, dividing it by the previous value, and multiplying by 100 to express the change as a percentage."
   ]
  },
  {
   "cell_type": "code",
   "execution_count": 6,
   "id": "92b83aa2",
   "metadata": {},
   "outputs": [
    {
     "data": {
      "text/html": [
       "<div>\n",
       "<style scoped>\n",
       "    .dataframe tbody tr th:only-of-type {\n",
       "        vertical-align: middle;\n",
       "    }\n",
       "\n",
       "    .dataframe tbody tr th {\n",
       "        vertical-align: top;\n",
       "    }\n",
       "\n",
       "    .dataframe thead th {\n",
       "        text-align: right;\n",
       "    }\n",
       "</style>\n",
       "<table border=\"1\" class=\"dataframe\">\n",
       "  <thead>\n",
       "    <tr style=\"text-align: right;\">\n",
       "      <th></th>\n",
       "      <th>Date</th>\n",
       "      <th>Open</th>\n",
       "      <th>High</th>\n",
       "      <th>Low</th>\n",
       "      <th>Close</th>\n",
       "      <th>Spread(High-Low)</th>\n",
       "      <th>Spread(Open-Close)</th>\n",
       "      <th>Returns</th>\n",
       "    </tr>\n",
       "  </thead>\n",
       "  <tbody>\n",
       "    <tr>\n",
       "      <th>0</th>\n",
       "      <td>2018-01-01</td>\n",
       "      <td>10531.70</td>\n",
       "      <td>10537.85</td>\n",
       "      <td>10423.10</td>\n",
       "      <td>10435.55</td>\n",
       "      <td>114.75</td>\n",
       "      <td>96.15</td>\n",
       "      <td>NaN</td>\n",
       "    </tr>\n",
       "    <tr>\n",
       "      <th>1</th>\n",
       "      <td>2018-01-02</td>\n",
       "      <td>10477.55</td>\n",
       "      <td>10495.20</td>\n",
       "      <td>10404.65</td>\n",
       "      <td>10442.20</td>\n",
       "      <td>90.55</td>\n",
       "      <td>35.35</td>\n",
       "      <td>0.000637</td>\n",
       "    </tr>\n",
       "    <tr>\n",
       "      <th>2</th>\n",
       "      <td>2018-01-03</td>\n",
       "      <td>10482.65</td>\n",
       "      <td>10503.60</td>\n",
       "      <td>10429.55</td>\n",
       "      <td>10443.20</td>\n",
       "      <td>74.05</td>\n",
       "      <td>39.45</td>\n",
       "      <td>0.000096</td>\n",
       "    </tr>\n",
       "    <tr>\n",
       "      <th>3</th>\n",
       "      <td>2018-01-04</td>\n",
       "      <td>10469.40</td>\n",
       "      <td>10513.00</td>\n",
       "      <td>10441.45</td>\n",
       "      <td>10504.80</td>\n",
       "      <td>71.55</td>\n",
       "      <td>-35.4</td>\n",
       "      <td>0.005899</td>\n",
       "    </tr>\n",
       "    <tr>\n",
       "      <th>4</th>\n",
       "      <td>2018-01-05</td>\n",
       "      <td>10534.25</td>\n",
       "      <td>10566.10</td>\n",
       "      <td>10520.10</td>\n",
       "      <td>10558.85</td>\n",
       "      <td>46</td>\n",
       "      <td>-24.6</td>\n",
       "      <td>0.005145</td>\n",
       "    </tr>\n",
       "  </tbody>\n",
       "</table>\n",
       "</div>"
      ],
      "text/plain": [
       "        Date      Open      High       Low     Close Spread(High-Low)  \\\n",
       "0 2018-01-01  10531.70  10537.85  10423.10  10435.55           114.75   \n",
       "1 2018-01-02  10477.55  10495.20  10404.65  10442.20            90.55   \n",
       "2 2018-01-03  10482.65  10503.60  10429.55  10443.20            74.05   \n",
       "3 2018-01-04  10469.40  10513.00  10441.45  10504.80            71.55   \n",
       "4 2018-01-05  10534.25  10566.10  10520.10  10558.85               46   \n",
       "\n",
       "  Spread(Open-Close)   Returns  \n",
       "0              96.15       NaN  \n",
       "1              35.35  0.000637  \n",
       "2              39.45  0.000096  \n",
       "3              -35.4  0.005899  \n",
       "4              -24.6  0.005145  "
      ]
     },
     "execution_count": 6,
     "metadata": {},
     "output_type": "execute_result"
    }
   ],
   "source": [
    "stock['Returns'] = stock['Close'].pct_change()\n",
    "\n",
    "stock.head()"
   ]
  },
  {
   "cell_type": "markdown",
   "id": "f16ac601",
   "metadata": {},
   "source": [
    "## 1) Calculate volatility (standard deviation of returns)"
   ]
  },
  {
   "cell_type": "code",
   "execution_count": 7,
   "id": "5b9a7460",
   "metadata": {},
   "outputs": [
    {
     "data": {
      "text/plain": [
       "0.011944664547745551"
      ]
     },
     "execution_count": 7,
     "metadata": {},
     "output_type": "execute_result"
    }
   ],
   "source": [
    "volatility = stock['Returns'].std()\n",
    "\n",
    "print(volatility)"
   ]
  },
  {
   "cell_type": "markdown",
   "id": "ceafd9b7",
   "metadata": {},
   "source": [
    "## Interpretation : "
   ]
  },
  {
   "cell_type": "markdown",
   "id": "82976e20",
   "metadata": {},
   "source": [
    "### Volatility is a statistical measure used to quantify the dispersion of returns for a given asset or security. It represents the degree of fluctuation or variability in the stock's price over a specific period. In this case, the volatility value of '0.0119' indicates that, on average, the daily returns of the stock have exhibited a \"1.19%\" standard deviation.Higher volatility suggests that the stock's price tends to experience larger and more frequent price movements, indicating a higher level of risk. Conversely, lower volatility implies a relatively stable price with smaller price swings, indicating lower risk."
   ]
  },
  {
   "cell_type": "markdown",
   "id": "936d20e8",
   "metadata": {},
   "source": [
    "## 2) Calculate beta (systematic risk)"
   ]
  },
  {
   "cell_type": "code",
   "execution_count": 11,
   "id": "f3dc4f06",
   "metadata": {},
   "outputs": [
    {
     "name": "stdout",
     "output_type": "stream",
     "text": [
      "Market Returns (%): 0.049944564652267195\n"
     ]
    }
   ],
   "source": [
    "# Calculate the market returns as the average of the stock returns\n",
    "\n",
    "market_returns = stock['Returns'].mean()\n",
    "\n",
    "# Convert the market returns to percentage\n",
    "\n",
    "market_returns_percentage=market_returns * 100\n",
    "\n",
    "print('Market Returns (%):', market_returns_percentage)"
   ]
  },
  {
   "cell_type": "code",
   "execution_count": 13,
   "id": "2d80ec7d",
   "metadata": {
    "scrolled": true
   },
   "outputs": [
    {
     "name": "stdout",
     "output_type": "stream",
     "text": [
      "Unlevered Beta (estimated using CAPM): 1.2\n"
     ]
    }
   ],
   "source": [
    "# Assume a proxy beta value (e.g., 1.2)\n",
    "\n",
    "proxy_beta = 1.2\n",
    "\n",
    "# Assume a risk-free rate (e.g., 2%)\n",
    "\n",
    "risk_free_rate = 0.02\n",
    "\n",
    "# Assume a proxy for the market return (e.g., 6%)\n",
    "\n",
    "market_return = 0.06\n",
    "\n",
    "# Estimate the expected return of the stock using the CAPM formula: expected_return = risk_free_rate + beta * (market_return - risk_free_rate)\n",
    "\n",
    "expected_return = risk_free_rate + proxy_beta * (market_return - risk_free_rate)\n",
    "\n",
    "# Rearranging the formula, we can solve for unlevered beta: unlevered_beta = (expected_return - risk_free_rate) / (market_return - risk_free_rate)\n",
    "\n",
    "unlevered_beta = (expected_return - risk_free_rate) / (market_return - risk_free_rate)\n",
    "\n",
    "print('Unlevered Beta (estimated using CAPM):', unlevered_beta)"
   ]
  },
  {
   "cell_type": "markdown",
   "id": "9d8c71b6",
   "metadata": {},
   "source": [
    "## Interpretation :"
   ]
  },
  {
   "cell_type": "markdown",
   "id": "19a0068c",
   "metadata": {},
   "source": [
    "### An unlevered beta of 1.2 means that the stock is expected to be 20% more volatile or sensitive to market movements compared to the overall market."
   ]
  },
  {
   "cell_type": "markdown",
   "id": "5b2d0208",
   "metadata": {},
   "source": [
    "### The higher the unlevered beta, the higher the inherent risk associated with the stock. A beta of 1.2 indicates that the stock is expected to experience larger price swings than the market. Investors who are risk-averse may consider this stock to be relatively more volatile and may require a higher expected return to compensate for the additional risk."
   ]
  },
  {
   "cell_type": "markdown",
   "id": "679bdef6",
   "metadata": {},
   "source": [
    "### i) If the stock's volatility (1.19%) is lower than the market's volatility (1.2), it suggests that the stock is less volatile than the market on average.\n",
    "### ii) If the stock's volatility is higher (1.19%) than the market's volatility (1.2), it indicates that the stock is more volatile than the market on average."
   ]
  },
  {
   "cell_type": "markdown",
   "id": "2d5b4637",
   "metadata": {},
   "source": [
    "## 3) Calculate Value at Risk (VaR)"
   ]
  },
  {
   "cell_type": "code",
   "execution_count": 15,
   "id": "852a4534",
   "metadata": {},
   "outputs": [],
   "source": [
    "confidence_level = 0.95  # Set the desired confidence level\n",
    "\n",
    "returns_sorted = stock['Returns'].dropna().sort_values()\n",
    "\n",
    "var = returns_sorted.quantile(1 - confidence_level)"
   ]
  },
  {
   "cell_type": "code",
   "execution_count": 16,
   "id": "c046b759",
   "metadata": {},
   "outputs": [
    {
     "name": "stdout",
     "output_type": "stream",
     "text": [
      "Value at Risk (VaR): -0.016505323854705326\n"
     ]
    }
   ],
   "source": [
    "print('Value at Risk (VaR):', var)"
   ]
  },
  {
   "cell_type": "markdown",
   "id": "cc734e54",
   "metadata": {},
   "source": [
    "## Interpretation : "
   ]
  },
  {
   "cell_type": "markdown",
   "id": "4b705bf2",
   "metadata": {},
   "source": [
    "### The Value at Risk (VaR) is a statistical measure that estimates the potential loss, in monetary terms, that an investment or portfolio may face over a specific time period with a certain level of confidence. In your case, you have a VaR of -0.0165, indicating a potential loss of that amount."
   ]
  },
  {
   "cell_type": "markdown",
   "id": "597c117e",
   "metadata": {},
   "source": [
    "###  VaR is a useful tool for risk assessment and risk management. It provides an estimate of the potential downside risk for a given investment or portfolio. The higher the VaR value, the higher the potential risk associated with the investment."
   ]
  },
  {
   "cell_type": "markdown",
   "id": "f809f0c1",
   "metadata": {},
   "source": [
    "### The negative value (-0.0165) indicates a potential loss. The magnitude of the loss is dependent on the scale or units of your dataset. For example, if your data is in percentages, the VaR suggests a potential loss of 1.65% of the investment value"
   ]
  }
 ],
 "metadata": {
  "kernelspec": {
   "display_name": "Python 3 (ipykernel)",
   "language": "python",
   "name": "python3"
  },
  "language_info": {
   "codemirror_mode": {
    "name": "ipython",
    "version": 3
   },
   "file_extension": ".py",
   "mimetype": "text/x-python",
   "name": "python",
   "nbconvert_exporter": "python",
   "pygments_lexer": "ipython3",
   "version": "3.9.12"
  }
 },
 "nbformat": 4,
 "nbformat_minor": 5
}
