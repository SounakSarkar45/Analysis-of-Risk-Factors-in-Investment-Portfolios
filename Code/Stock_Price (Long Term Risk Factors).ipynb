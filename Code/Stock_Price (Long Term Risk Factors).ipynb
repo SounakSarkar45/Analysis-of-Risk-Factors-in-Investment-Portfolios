{
 "cells": [
  {
   "cell_type": "markdown",
   "id": "1d3216ef",
   "metadata": {},
   "source": [
    "## Importing the basic libraries"
   ]
  },
  {
   "cell_type": "code",
   "execution_count": 1,
   "id": "ed629aaf",
   "metadata": {},
   "outputs": [],
   "source": [
    "import pandas as pd\n",
    "\n",
    "import numpy as np\n",
    "\n",
    "import matplotlib.pyplot as plt\n",
    "\n",
    "import scipy.stats as stats\n",
    "\n",
    "import seaborn as sns\n",
    "\n",
    "from arch import arch_model\n",
    "\n",
    "from scipy.optimize import minimize\n",
    "\n",
    "from scipy.stats import norm\n",
    "\n",
    "from statsmodels.distributions.empirical_distribution import ECDF\n",
    "\n",
    "from copulas.multivariate import GaussianMultivariate"
   ]
  },
  {
   "cell_type": "markdown",
   "id": "7ac71dee",
   "metadata": {},
   "source": [
    "## Reading the dataset"
   ]
  },
  {
   "cell_type": "code",
   "execution_count": 2,
   "id": "d6763572",
   "metadata": {
    "scrolled": false
   },
   "outputs": [
    {
     "data": {
      "text/html": [
       "<div>\n",
       "<style scoped>\n",
       "    .dataframe tbody tr th:only-of-type {\n",
       "        vertical-align: middle;\n",
       "    }\n",
       "\n",
       "    .dataframe tbody tr th {\n",
       "        vertical-align: top;\n",
       "    }\n",
       "\n",
       "    .dataframe thead th {\n",
       "        text-align: right;\n",
       "    }\n",
       "</style>\n",
       "<table border=\"1\" class=\"dataframe\">\n",
       "  <thead>\n",
       "    <tr style=\"text-align: right;\">\n",
       "      <th></th>\n",
       "      <th>Date</th>\n",
       "      <th>Open</th>\n",
       "      <th>High</th>\n",
       "      <th>Low</th>\n",
       "      <th>Close</th>\n",
       "      <th>Unnamed: 5</th>\n",
       "      <th>Unnamed: 6</th>\n",
       "    </tr>\n",
       "  </thead>\n",
       "  <tbody>\n",
       "    <tr>\n",
       "      <th>0</th>\n",
       "      <td>NaT</td>\n",
       "      <td>NaN</td>\n",
       "      <td>NaN</td>\n",
       "      <td>NaN</td>\n",
       "      <td>NaN</td>\n",
       "      <td>SPREAD (High-Low)</td>\n",
       "      <td>SPREAD (Open-Close)</td>\n",
       "    </tr>\n",
       "    <tr>\n",
       "      <th>1</th>\n",
       "      <td>2023-05-15</td>\n",
       "      <td>18339.30</td>\n",
       "      <td>18458.90</td>\n",
       "      <td>18287.90</td>\n",
       "      <td>18398.85</td>\n",
       "      <td>171</td>\n",
       "      <td>-59.55</td>\n",
       "    </tr>\n",
       "    <tr>\n",
       "      <th>2</th>\n",
       "      <td>2023-05-12</td>\n",
       "      <td>18273.75</td>\n",
       "      <td>18342.75</td>\n",
       "      <td>18194.55</td>\n",
       "      <td>18314.80</td>\n",
       "      <td>148.2</td>\n",
       "      <td>-41.05</td>\n",
       "    </tr>\n",
       "    <tr>\n",
       "      <th>3</th>\n",
       "      <td>2023-05-11</td>\n",
       "      <td>18357.80</td>\n",
       "      <td>18389.70</td>\n",
       "      <td>18270.40</td>\n",
       "      <td>18297.00</td>\n",
       "      <td>119.3</td>\n",
       "      <td>60.8</td>\n",
       "    </tr>\n",
       "    <tr>\n",
       "      <th>4</th>\n",
       "      <td>2023-05-10</td>\n",
       "      <td>18313.60</td>\n",
       "      <td>18326.75</td>\n",
       "      <td>18211.95</td>\n",
       "      <td>18315.10</td>\n",
       "      <td>114.8</td>\n",
       "      <td>-1.5</td>\n",
       "    </tr>\n",
       "  </tbody>\n",
       "</table>\n",
       "</div>"
      ],
      "text/plain": [
       "        Date      Open      High       Low     Close         Unnamed: 5  \\\n",
       "0        NaT       NaN       NaN       NaN       NaN  SPREAD (High-Low)   \n",
       "1 2023-05-15  18339.30  18458.90  18287.90  18398.85                171   \n",
       "2 2023-05-12  18273.75  18342.75  18194.55  18314.80              148.2   \n",
       "3 2023-05-11  18357.80  18389.70  18270.40  18297.00              119.3   \n",
       "4 2023-05-10  18313.60  18326.75  18211.95  18315.10              114.8   \n",
       "\n",
       "            Unnamed: 6  \n",
       "0  SPREAD (Open-Close)  \n",
       "1               -59.55  \n",
       "2               -41.05  \n",
       "3                 60.8  \n",
       "4                 -1.5  "
      ]
     },
     "execution_count": 2,
     "metadata": {},
     "output_type": "execute_result"
    }
   ],
   "source": [
    "# Load the stock market data\n",
    "\n",
    "stock = pd.read_excel('D:/WORK/UNIVERSITY PROJECTS/OPTIMIZING INVESTMENT PORTFOLIOS SUBJECT TO RISK MANAGEMENT AND STRATEGIC PLANNING/Code/Stock_prices (10-Year).xlsx')\n",
    "\n",
    "stock.head()"
   ]
  },
  {
   "cell_type": "markdown",
   "id": "579035b4",
   "metadata": {},
   "source": [
    "## Basic preprocessing sections"
   ]
  },
  {
   "cell_type": "code",
   "execution_count": 3,
   "id": "d76f4c7d",
   "metadata": {},
   "outputs": [
    {
     "name": "stdout",
     "output_type": "stream",
     "text": [
      "           Date      Open      High       Low     Close Unnamed: 5 Unnamed: 6\n",
      "0    2023-05-15  18339.30  18458.90  18287.90  18398.85        171     -59.55\n",
      "1    2023-05-12  18273.75  18342.75  18194.55  18314.80      148.2     -41.05\n",
      "2    2023-05-11  18357.80  18389.70  18270.40  18297.00      119.3       60.8\n",
      "3    2023-05-10  18313.60  18326.75  18211.95  18315.10      114.8       -1.5\n",
      "4    2023-05-09  18303.40  18344.20  18229.65  18265.95     114.55      37.45\n",
      "...         ...       ...       ...       ...       ...        ...        ...\n",
      "2560 2013-01-07   6042.15   6042.15   5977.15   5988.40         65      53.75\n",
      "2561 2013-01-04   6011.95   6020.75   5981.55   6016.15       39.2       -4.2\n",
      "2562 2013-01-03   6015.80   6017.00   5986.55   6009.50      30.45        6.3\n",
      "2563 2013-01-02   5982.60   6006.05   5982.00   5993.25      24.05     -10.65\n",
      "2564 2013-01-01   5937.65   5963.90   5935.20   5950.85       28.7      -13.2\n",
      "\n",
      "[2565 rows x 7 columns]\n"
     ]
    }
   ],
   "source": [
    "stock = stock.iloc[1:].reset_index(drop=True)\n",
    "\n",
    "print(stock)"
   ]
  },
  {
   "cell_type": "markdown",
   "id": "a695193f",
   "metadata": {},
   "source": [
    "### Renaming the \"Unnamed\" columns"
   ]
  },
  {
   "cell_type": "code",
   "execution_count": 4,
   "id": "690e4a16",
   "metadata": {},
   "outputs": [
    {
     "data": {
      "text/html": [
       "<div>\n",
       "<style scoped>\n",
       "    .dataframe tbody tr th:only-of-type {\n",
       "        vertical-align: middle;\n",
       "    }\n",
       "\n",
       "    .dataframe tbody tr th {\n",
       "        vertical-align: top;\n",
       "    }\n",
       "\n",
       "    .dataframe thead th {\n",
       "        text-align: right;\n",
       "    }\n",
       "</style>\n",
       "<table border=\"1\" class=\"dataframe\">\n",
       "  <thead>\n",
       "    <tr style=\"text-align: right;\">\n",
       "      <th></th>\n",
       "      <th>Date</th>\n",
       "      <th>Open</th>\n",
       "      <th>High</th>\n",
       "      <th>Low</th>\n",
       "      <th>Close</th>\n",
       "      <th>Spread(High-Low)</th>\n",
       "      <th>Spread(Open-Close)</th>\n",
       "    </tr>\n",
       "  </thead>\n",
       "  <tbody>\n",
       "    <tr>\n",
       "      <th>0</th>\n",
       "      <td>2023-05-15</td>\n",
       "      <td>18339.30</td>\n",
       "      <td>18458.90</td>\n",
       "      <td>18287.90</td>\n",
       "      <td>18398.85</td>\n",
       "      <td>171</td>\n",
       "      <td>-59.55</td>\n",
       "    </tr>\n",
       "    <tr>\n",
       "      <th>1</th>\n",
       "      <td>2023-05-12</td>\n",
       "      <td>18273.75</td>\n",
       "      <td>18342.75</td>\n",
       "      <td>18194.55</td>\n",
       "      <td>18314.80</td>\n",
       "      <td>148.2</td>\n",
       "      <td>-41.05</td>\n",
       "    </tr>\n",
       "    <tr>\n",
       "      <th>2</th>\n",
       "      <td>2023-05-11</td>\n",
       "      <td>18357.80</td>\n",
       "      <td>18389.70</td>\n",
       "      <td>18270.40</td>\n",
       "      <td>18297.00</td>\n",
       "      <td>119.3</td>\n",
       "      <td>60.8</td>\n",
       "    </tr>\n",
       "    <tr>\n",
       "      <th>3</th>\n",
       "      <td>2023-05-10</td>\n",
       "      <td>18313.60</td>\n",
       "      <td>18326.75</td>\n",
       "      <td>18211.95</td>\n",
       "      <td>18315.10</td>\n",
       "      <td>114.8</td>\n",
       "      <td>-1.5</td>\n",
       "    </tr>\n",
       "    <tr>\n",
       "      <th>4</th>\n",
       "      <td>2023-05-09</td>\n",
       "      <td>18303.40</td>\n",
       "      <td>18344.20</td>\n",
       "      <td>18229.65</td>\n",
       "      <td>18265.95</td>\n",
       "      <td>114.55</td>\n",
       "      <td>37.45</td>\n",
       "    </tr>\n",
       "  </tbody>\n",
       "</table>\n",
       "</div>"
      ],
      "text/plain": [
       "        Date      Open      High       Low     Close Spread(High-Low)  \\\n",
       "0 2023-05-15  18339.30  18458.90  18287.90  18398.85              171   \n",
       "1 2023-05-12  18273.75  18342.75  18194.55  18314.80            148.2   \n",
       "2 2023-05-11  18357.80  18389.70  18270.40  18297.00            119.3   \n",
       "3 2023-05-10  18313.60  18326.75  18211.95  18315.10            114.8   \n",
       "4 2023-05-09  18303.40  18344.20  18229.65  18265.95           114.55   \n",
       "\n",
       "  Spread(Open-Close)  \n",
       "0             -59.55  \n",
       "1             -41.05  \n",
       "2               60.8  \n",
       "3               -1.5  \n",
       "4              37.45  "
      ]
     },
     "execution_count": 4,
     "metadata": {},
     "output_type": "execute_result"
    }
   ],
   "source": [
    "stock.rename(columns={'Unnamed: 5':'Spread(High-Low)','Unnamed: 6':'Spread(Open-Close)'}, inplace = True)\n",
    "\n",
    "stock.head()"
   ]
  },
  {
   "cell_type": "markdown",
   "id": "de658ac8",
   "metadata": {},
   "source": [
    "### The date column started from May' 2023 to Jan' 2018. But we should work on the data in an ascending chronological order."
   ]
  },
  {
   "cell_type": "code",
   "execution_count": 5,
   "id": "2d0e2e6d",
   "metadata": {},
   "outputs": [
    {
     "data": {
      "text/html": [
       "<div>\n",
       "<style scoped>\n",
       "    .dataframe tbody tr th:only-of-type {\n",
       "        vertical-align: middle;\n",
       "    }\n",
       "\n",
       "    .dataframe tbody tr th {\n",
       "        vertical-align: top;\n",
       "    }\n",
       "\n",
       "    .dataframe thead th {\n",
       "        text-align: right;\n",
       "    }\n",
       "</style>\n",
       "<table border=\"1\" class=\"dataframe\">\n",
       "  <thead>\n",
       "    <tr style=\"text-align: right;\">\n",
       "      <th></th>\n",
       "      <th>Date</th>\n",
       "      <th>Open</th>\n",
       "      <th>High</th>\n",
       "      <th>Low</th>\n",
       "      <th>Close</th>\n",
       "      <th>Spread(High-Low)</th>\n",
       "      <th>Spread(Open-Close)</th>\n",
       "    </tr>\n",
       "  </thead>\n",
       "  <tbody>\n",
       "    <tr>\n",
       "      <th>0</th>\n",
       "      <td>2013-01-01</td>\n",
       "      <td>5937.65</td>\n",
       "      <td>5963.90</td>\n",
       "      <td>5935.20</td>\n",
       "      <td>5950.85</td>\n",
       "      <td>28.7</td>\n",
       "      <td>-13.2</td>\n",
       "    </tr>\n",
       "    <tr>\n",
       "      <th>1</th>\n",
       "      <td>2013-01-02</td>\n",
       "      <td>5982.60</td>\n",
       "      <td>6006.05</td>\n",
       "      <td>5982.00</td>\n",
       "      <td>5993.25</td>\n",
       "      <td>24.05</td>\n",
       "      <td>-10.65</td>\n",
       "    </tr>\n",
       "    <tr>\n",
       "      <th>2</th>\n",
       "      <td>2013-01-03</td>\n",
       "      <td>6015.80</td>\n",
       "      <td>6017.00</td>\n",
       "      <td>5986.55</td>\n",
       "      <td>6009.50</td>\n",
       "      <td>30.45</td>\n",
       "      <td>6.3</td>\n",
       "    </tr>\n",
       "  </tbody>\n",
       "</table>\n",
       "</div>"
      ],
      "text/plain": [
       "        Date     Open     High      Low    Close Spread(High-Low)  \\\n",
       "0 2013-01-01  5937.65  5963.90  5935.20  5950.85             28.7   \n",
       "1 2013-01-02  5982.60  6006.05  5982.00  5993.25            24.05   \n",
       "2 2013-01-03  6015.80  6017.00  5986.55  6009.50            30.45   \n",
       "\n",
       "  Spread(Open-Close)  \n",
       "0              -13.2  \n",
       "1             -10.65  \n",
       "2                6.3  "
      ]
     },
     "execution_count": 5,
     "metadata": {},
     "output_type": "execute_result"
    }
   ],
   "source": [
    "stock.sort_values(by='Date', inplace = True)\n",
    "\n",
    "stock.reset_index(drop=True, inplace = True)\n",
    "\n",
    "stock.head(3)"
   ]
  },
  {
   "cell_type": "markdown",
   "id": "3d45c6a9",
   "metadata": {},
   "source": [
    "### Calculating the Returns according to the price of the stocks closed everyday."
   ]
  },
  {
   "cell_type": "markdown",
   "id": "e6b1f87a",
   "metadata": {},
   "source": [
    "### In the context of the Percentage Change (pct_change()) function, the current value represents the value at index 'i', and the previous value represents the value at index 'i-1'. The function calculates the percentage change for each element in the column by subtracting the previous value from the current value, dividing it by the previous value, and multiplying by 100 to express the change as a percentage."
   ]
  },
  {
   "cell_type": "code",
   "execution_count": 6,
   "id": "4423f73b",
   "metadata": {},
   "outputs": [
    {
     "data": {
      "text/html": [
       "<div>\n",
       "<style scoped>\n",
       "    .dataframe tbody tr th:only-of-type {\n",
       "        vertical-align: middle;\n",
       "    }\n",
       "\n",
       "    .dataframe tbody tr th {\n",
       "        vertical-align: top;\n",
       "    }\n",
       "\n",
       "    .dataframe thead th {\n",
       "        text-align: right;\n",
       "    }\n",
       "</style>\n",
       "<table border=\"1\" class=\"dataframe\">\n",
       "  <thead>\n",
       "    <tr style=\"text-align: right;\">\n",
       "      <th></th>\n",
       "      <th>Date</th>\n",
       "      <th>Open</th>\n",
       "      <th>High</th>\n",
       "      <th>Low</th>\n",
       "      <th>Close</th>\n",
       "      <th>Spread(High-Low)</th>\n",
       "      <th>Spread(Open-Close)</th>\n",
       "      <th>Return</th>\n",
       "    </tr>\n",
       "  </thead>\n",
       "  <tbody>\n",
       "    <tr>\n",
       "      <th>0</th>\n",
       "      <td>2013-01-01</td>\n",
       "      <td>5937.65</td>\n",
       "      <td>5963.90</td>\n",
       "      <td>5935.20</td>\n",
       "      <td>5950.85</td>\n",
       "      <td>28.7</td>\n",
       "      <td>-13.2</td>\n",
       "      <td>NaN</td>\n",
       "    </tr>\n",
       "    <tr>\n",
       "      <th>1</th>\n",
       "      <td>2013-01-02</td>\n",
       "      <td>5982.60</td>\n",
       "      <td>6006.05</td>\n",
       "      <td>5982.00</td>\n",
       "      <td>5993.25</td>\n",
       "      <td>24.05</td>\n",
       "      <td>-10.65</td>\n",
       "      <td>0.007125</td>\n",
       "    </tr>\n",
       "    <tr>\n",
       "      <th>2</th>\n",
       "      <td>2013-01-03</td>\n",
       "      <td>6015.80</td>\n",
       "      <td>6017.00</td>\n",
       "      <td>5986.55</td>\n",
       "      <td>6009.50</td>\n",
       "      <td>30.45</td>\n",
       "      <td>6.3</td>\n",
       "      <td>0.002711</td>\n",
       "    </tr>\n",
       "  </tbody>\n",
       "</table>\n",
       "</div>"
      ],
      "text/plain": [
       "        Date     Open     High      Low    Close Spread(High-Low)  \\\n",
       "0 2013-01-01  5937.65  5963.90  5935.20  5950.85             28.7   \n",
       "1 2013-01-02  5982.60  6006.05  5982.00  5993.25            24.05   \n",
       "2 2013-01-03  6015.80  6017.00  5986.55  6009.50            30.45   \n",
       "\n",
       "  Spread(Open-Close)    Return  \n",
       "0              -13.2       NaN  \n",
       "1             -10.65  0.007125  \n",
       "2                6.3  0.002711  "
      ]
     },
     "execution_count": 6,
     "metadata": {},
     "output_type": "execute_result"
    }
   ],
   "source": [
    "# Calculate daily returns\n",
    "\n",
    "stock['Return'] = stock['Close'].pct_change().dropna()\n",
    "\n",
    "stock.head(3)"
   ]
  },
  {
   "cell_type": "markdown",
   "id": "f6cc4123",
   "metadata": {},
   "source": [
    "### Dropping the null or irrelevant values"
   ]
  },
  {
   "cell_type": "code",
   "execution_count": 7,
   "id": "fcbec265",
   "metadata": {},
   "outputs": [
    {
     "data": {
      "text/plain": [
       "Date                  0\n",
       "Open                  0\n",
       "High                  0\n",
       "Low                   0\n",
       "Close                 0\n",
       "Spread(High-Low)      0\n",
       "Spread(Open-Close)    0\n",
       "Return                0\n",
       "dtype: int64"
      ]
     },
     "execution_count": 7,
     "metadata": {},
     "output_type": "execute_result"
    }
   ],
   "source": [
    "stock=stock.dropna()\n",
    "\n",
    "stock.isnull().sum()"
   ]
  },
  {
   "cell_type": "markdown",
   "id": "96dab91a",
   "metadata": {},
   "source": [
    "## 1) Calculate VaR using parametric method "
   ]
  },
  {
   "cell_type": "markdown",
   "id": "3def5024",
   "metadata": {},
   "source": [
    "### Value at Risk (VaR): VaR estimates the maximum potential loss that a portfolio may incur over a specified time horizon and at a given confidence level. It helps quantify the downside risk and provides a measure of the worst-case scenario."
   ]
  },
  {
   "cell_type": "code",
   "execution_count": 8,
   "id": "d0333e9a",
   "metadata": {},
   "outputs": [],
   "source": [
    "confidence_level = 0.95\n",
    "\n",
    "mean_return = stock['Return'].mean()\n",
    "\n",
    "std_dev = stock['Return'].std()\n",
    "\n",
    "VaR_parametric = norm.ppf(1 - confidence_level, mean_return, std_dev)"
   ]
  },
  {
   "cell_type": "code",
   "execution_count": 9,
   "id": "8466d9e2",
   "metadata": {},
   "outputs": [
    {
     "name": "stdout",
     "output_type": "stream",
     "text": [
      "VaR (Parametric): -0.01709969245647796\n"
     ]
    }
   ],
   "source": [
    "print(\"VaR (Parametric):\", VaR_parametric)"
   ]
  },
  {
   "cell_type": "markdown",
   "id": "c49fc36f",
   "metadata": {},
   "source": [
    "## Interpretation :"
   ]
  },
  {
   "cell_type": "markdown",
   "id": "d3d5e0f9",
   "metadata": {},
   "source": [
    "### VaR (Parametric) of -0.0171 implies that there is a certain level of risk associated with your portfolio. Specifically, it suggests that there is a 1% (or the confidence level you used) chance of experiencing a loss greater than or equal to -0.0171. In other words, this is the estimated maximum potential loss that your portfolio may incur with a given level of confidence. It provides you with a measure of downside risk and can be used to make informed decisions regarding risk management and portfolio diversification."
   ]
  },
  {
   "cell_type": "markdown",
   "id": "8d353bd2",
   "metadata": {},
   "source": [
    "## 2) Calculate CVaR using parametric method"
   ]
  },
  {
   "cell_type": "markdown",
   "id": "7fb1fdf9",
   "metadata": {},
   "source": [
    "### Conditional Value at Risk (CVaR): CVaR, also known as expected shortfall, goes beyond VaR by considering the average of losses that exceed the VaR threshold. It provides additional information about the severity of extreme losses and tail risks."
   ]
  },
  {
   "cell_type": "code",
   "execution_count": 10,
   "id": "043c462b",
   "metadata": {},
   "outputs": [],
   "source": [
    "CVaR_parametric = (1 / (1 - confidence_level)) * norm.pdf(norm.ppf(1 - confidence_level)) * std_dev - mean_return"
   ]
  },
  {
   "cell_type": "code",
   "execution_count": 11,
   "id": "6a8ecbf8",
   "metadata": {},
   "outputs": [
    {
     "name": "stdout",
     "output_type": "stream",
     "text": [
      "CVaR (Parametric): 0.02157020481693655\n"
     ]
    }
   ],
   "source": [
    "print(\"CVaR (Parametric):\", CVaR_parametric)"
   ]
  },
  {
   "cell_type": "markdown",
   "id": "3d7213a4",
   "metadata": {},
   "source": [
    "## Interpretation : "
   ]
  },
  {
   "cell_type": "markdown",
   "id": "c85928e0",
   "metadata": {},
   "source": [
    "### CVaR (Parametric) of 0.0215 indicates the expected loss beyond the VaR threshold for your portfolio. Specifically, it represents the average of all potential losses that exceed the VaR value. In other words, it provides an estimate of the average severity of losses if they occur beyond the VaR level. CVaR is a measure of downside risk and provides additional information beyond VaR by considering the tail end of the loss distribution. This result can be used to assess and manage the potential magnitude of losses in your portfolio, helping you make informed risk management decisions."
   ]
  },
  {
   "cell_type": "markdown",
   "id": "2cefa888",
   "metadata": {},
   "source": [
    "## 3) Perform Monte Carlo Simulation"
   ]
  },
  {
   "cell_type": "markdown",
   "id": "f2793ed1",
   "metadata": {},
   "source": [
    "### Monte Carlo Simulation: This technique involves generating random scenarios for future market movements and simulating portfolio returns based on these scenarios. It helps assess the range of potential outcomes and estimate the probability of achieving specific investment targets."
   ]
  },
  {
   "cell_type": "code",
   "execution_count": 12,
   "id": "aa40b358",
   "metadata": {},
   "outputs": [],
   "source": [
    "num_simulations = 10000\n",
    "\n",
    "simulated_returns = np.random.normal(mean_return, std_dev, size=(num_simulations, len(stock)))\n",
    "\n",
    "portfolio_values = np.cumprod(1 + simulated_returns, axis=1)\n",
    "\n",
    "portfolio_final_values = portfolio_values[:, -1]\n",
    "\n",
    "VaR_mc = np.percentile(portfolio_final_values, 100 * (1 - confidence_level))\n",
    "\n",
    "CVaR_mc = np.mean(portfolio_final_values[portfolio_final_values <= VaR_mc])"
   ]
  },
  {
   "cell_type": "code",
   "execution_count": 13,
   "id": "01fc5c08",
   "metadata": {},
   "outputs": [
    {
     "name": "stdout",
     "output_type": "stream",
     "text": [
      "VaR (Monte Carlo): 1.2802814139114396\n",
      "CVaR (Monte Carlo): 1.050273687985247\n"
     ]
    }
   ],
   "source": [
    "print(\"VaR (Monte Carlo):\", VaR_mc)\n",
    "\n",
    "print(\"CVaR (Monte Carlo):\", CVaR_mc)"
   ]
  },
  {
   "cell_type": "markdown",
   "id": "aef11287",
   "metadata": {},
   "source": [
    "## Interpretation : "
   ]
  },
  {
   "cell_type": "markdown",
   "id": "df836e38",
   "metadata": {},
   "source": [
    "### VaR (Monte Carlo) of 1.247 indicates the estimated maximum potential loss for your portfolio at a specific confidence level (typically 1% or 5%). This means that there is a 1% (or the confidence level you used) chance that your portfolio may experience a loss equal to or greater than 1.247. VaR provides a measure of downside risk and helps you understand the potential magnitude of losses in your portfolio."
   ]
  },
  {
   "cell_type": "markdown",
   "id": "6f9e16eb",
   "metadata": {},
   "source": [
    "### The result for CVaR (Monte Carlo) of 1.0069 represents the expected average loss beyond the VaR threshold. CVaR provides additional information by considering the severity of losses that exceed the VaR level. It is a measure of downside risk and indicates the average magnitude of losses if they occur beyond the VaR estimate."
   ]
  },
  {
   "cell_type": "markdown",
   "id": "0373d22a",
   "metadata": {},
   "source": [
    "## 4) Perform Historical Simulation"
   ]
  },
  {
   "cell_type": "markdown",
   "id": "0c28b489",
   "metadata": {},
   "source": [
    "### Historical Simulation: This method uses historical data to simulate portfolio returns and estimate risk measures. It assumes that future market conditions will resemble past observations, allowing investors to evaluate the likelihood of various risk scenarios."
   ]
  },
  {
   "cell_type": "code",
   "execution_count": 14,
   "id": "9d74bfd6",
   "metadata": {},
   "outputs": [],
   "source": [
    "window_size = 100\n",
    "\n",
    "portfolio_returns = np.array(stock['Return'])\n",
    "\n",
    "portfolio_values = np.cumprod(1 + portfolio_returns)\n",
    "\n",
    "rolling_max = np.maximum.accumulate(portfolio_values)\n",
    "\n",
    "drawdown = portfolio_values / rolling_max - 1\n",
    "\n",
    "VaR_hist = np.percentile(drawdown, 100 * (1 - confidence_level))\n",
    "\n",
    "CVaR_hist = np.mean(drawdown[drawdown <= VaR_hist])"
   ]
  },
  {
   "cell_type": "code",
   "execution_count": 15,
   "id": "bb99b5d6",
   "metadata": {},
   "outputs": [
    {
     "name": "stdout",
     "output_type": "stream",
     "text": [
      "VaR (Historical Simulation): -0.1561871021274564\n",
      "CVaR (Historical Simulation): -0.21705370938219204\n"
     ]
    }
   ],
   "source": [
    "print(\"VaR (Historical Simulation):\", VaR_hist)\n",
    "\n",
    "print(\"CVaR (Historical Simulation):\", CVaR_hist)"
   ]
  },
  {
   "cell_type": "markdown",
   "id": "132a4ba1",
   "metadata": {},
   "source": [
    "## Interpretation : "
   ]
  },
  {
   "cell_type": "markdown",
   "id": "b291a45d",
   "metadata": {},
   "source": [
    "### VaR (Historical Simulation) of -0.1562 indicates the estimated maximum potential loss for your portfolio at a specific confidence level. This means that there is a certain level of confidence (typically 1% or 5%) that your portfolio may experience a loss equal to or greater than -0.1562. VaR provides a measure of downside risk and helps you understand the potential magnitude of losses in your portfolio."
   ]
  },
  {
   "cell_type": "markdown",
   "id": "75c60f4a",
   "metadata": {},
   "source": [
    "### The result for CVaR (Historical Simulation) of -0.2170 represents the expected average loss beyond the VaR threshold. CVaR provides additional information by considering the severity of losses that exceed the VaR level. It is a measure of downside risk and indicates the average magnitude of losses if they occur beyond the VaR estimate."
   ]
  },
  {
   "cell_type": "markdown",
   "id": "1db75974",
   "metadata": {},
   "source": [
    "## Visualizations"
   ]
  },
  {
   "cell_type": "code",
   "execution_count": 16,
   "id": "88d7928f",
   "metadata": {},
   "outputs": [
    {
     "data": {
      "image/png": "[encoded data removed]",
      "text/plain": [
       "<Figure size 864x432 with 4 Axes>"
      ]
     },
     "metadata": {
      "needs_background": "light"
     },
     "output_type": "display_data"
    }
   ],
   "source": [
    "# Visualizations\n",
    "\n",
    "plt.figure(figsize=(12, 6))\n",
    "\n",
    "# Parametric VaR\n",
    "\n",
    "plt.subplot(2, 2, 1)\n",
    "\n",
    "sns.histplot(portfolio_final_values, kde=True)\n",
    "\n",
    "plt.axvline(VaR_parametric, color='red', linestyle='--', label='VaR')\n",
    "\n",
    "plt.title('Parametric VaR')\n",
    "\n",
    "plt.legend()\n",
    "\n",
    "# Parametric CVaR\n",
    "\n",
    "plt.subplot(2, 2, 2)\n",
    "\n",
    "sns.histplot(portfolio_final_values, kde=True)\n",
    "\n",
    "plt.axvline(CVaR_parametric, color='red', linestyle='--', label='CVaR')\n",
    "\n",
    "plt.title('Parametric CVaR')\n",
    "\n",
    "plt.legend()\n",
    "\n",
    "# Monte Carlo VaR\n",
    "\n",
    "plt.subplot(2, 2, 3)\n",
    "\n",
    "sns.histplot(portfolio_final_values, kde=True)\n",
    "\n",
    "plt.axvline(VaR_mc, color='red', linestyle='--', label='VaR')\n",
    "\n",
    "plt.title('Monte Carlo VaR')\n",
    "\n",
    "plt.legend()\n",
    "\n",
    "# Monte Carlo CVaR\n",
    "\n",
    "plt.subplot(2, 2, 4)\n",
    "\n",
    "sns.histplot(portfolio_final_values, kde=True)\n",
    "\n",
    "plt.axvline(CVaR_mc, color='red', linestyle='--', label='CVaR')\n",
    "\n",
    "plt.title('Monte Carlo CVaR')\n",
    "\n",
    "plt.legend()\n",
    "\n",
    "plt.tight_layout()\n",
    "\n",
    "plt.show()"
   ]
  }
 ],
 "metadata": {
  "kernelspec": {
   "display_name": "Python 3 (ipykernel)",
   "language": "python",
   "name": "python3"
  },
  "language_info": {
   "codemirror_mode": {
    "name": "ipython",
    "version": 3
   },
   "file_extension": ".py",
   "mimetype": "text/x-python",
   "name": "python",
   "nbconvert_exporter": "python",
   "pygments_lexer": "ipython3",
   "version": "3.9.12"
  }
 },
 "nbformat": 4,
 "nbformat_minor": 5
}
